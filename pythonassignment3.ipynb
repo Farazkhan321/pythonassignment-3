{
 "cells": [
  {
   "cell_type": "code",
   "execution_count": null,
   "id": "43d0c2f6-a988-42e8-aabd-1777a6a39db0",
   "metadata": {},
   "outputs": [],
   "source": [
    "python week 3\n",
    "assignment-1"
   ]
  },
  {
   "cell_type": "code",
   "execution_count": 19,
   "id": "d1962bd0-45d5-4a26-9892-1ac6d6e128cd",
   "metadata": {},
   "outputs": [],
   "source": [
    "#Q1)\n",
    "\n",
    "# In Python, the keyword used to create a function is def. \n",
    "def odd_numbers():\n",
    "    l = []\n",
    "    for i in range(1,26):\n",
    "        if i % 2 != 0:\n",
    "             l.append(i)\n",
    "    return l"
   ]
  },
  {
   "cell_type": "code",
   "execution_count": 20,
   "id": "47d5f7f6-43a7-46b0-897f-51922794e54b",
   "metadata": {},
   "outputs": [
    {
     "data": {
      "text/plain": [
       "[1, 3, 5, 7, 9, 11, 13, 15, 17, 19, 21, 23, 25]"
      ]
     },
     "execution_count": 20,
     "metadata": {},
     "output_type": "execute_result"
    }
   ],
   "source": [
    "odd_numbers()"
   ]
  },
  {
   "cell_type": "code",
   "execution_count": 29,
   "id": "08578c50-3781-41dc-b4bd-a9865a736567",
   "metadata": {},
   "outputs": [],
   "source": [
    "#Q2)\n",
    "\n",
    "\"\"\" *args allows you to pass a variable number of non-keyword arguments (positional arguments) to a function. \n",
    "These arguments are collected into a tuple.\n",
    "\n",
    "**kwargs allows you to pass a variable number of keyword arguments (named arguments) to a function. \n",
    "These arguments are collected into a dictionary.\"\"\"\n",
    "\n",
    "def sum(*faraaz):\n",
    "    result=1\n",
    "    for i in faraaz:\n",
    "        result += i*2 \n",
    "    return result"
   ]
  },
  {
   "cell_type": "code",
   "execution_count": 30,
   "id": "0939f534-e482-454c-9927-4379dcf3c053",
   "metadata": {},
   "outputs": [
    {
     "data": {
      "text/plain": [
       "47"
      ]
     },
     "execution_count": 30,
     "metadata": {},
     "output_type": "execute_result"
    }
   ],
   "source": [
    "sum(1,2,5,8,7)"
   ]
  },
  {
   "cell_type": "code",
   "execution_count": 31,
   "id": "83b53329-18bb-4e56-ba61-4609e04eba4c",
   "metadata": {},
   "outputs": [],
   "source": [
    "def inform(**faraaz):\n",
    "    return faraaz"
   ]
  },
  {
   "cell_type": "code",
   "execution_count": 32,
   "id": "523557f3-0d11-4695-b283-23bdb7f08b56",
   "metadata": {},
   "outputs": [
    {
     "data": {
      "text/plain": [
       "{'name': 'faraaz', 'age': 22, 'riligion': 'muslim'}"
      ]
     },
     "execution_count": 32,
     "metadata": {},
     "output_type": "execute_result"
    }
   ],
   "source": [
    "inform(name= \"faraaz\", age=22,riligion=\"muslim\")"
   ]
  },
  {
   "cell_type": "code",
   "execution_count": 33,
   "id": "c4710580-178a-446b-9aee-bc980d23326f",
   "metadata": {},
   "outputs": [
    {
     "name": "stdout",
     "output_type": "stream",
     "text": [
      "2\n",
      "4\n",
      "6\n",
      "8\n",
      "10\n"
     ]
    }
   ],
   "source": [
    "#Q3)\n",
    "\n",
    "\"\"\"In Python, an iterator is an object that represents a stream of data and can be iterated (looped) over. \n",
    "It implements two methods, __iter__() and __next__(), that allow you to traverse through the elements of \n",
    "a collection (such as a list) one at a time.\"\"\"\n",
    "\n",
    "\n",
    "l = [2, 4, 6, 8, 10, 12, 14, 16, 18, 20]\n",
    "iterator = iter(l)\n",
    "\n",
    "for _ in range(5):\n",
    "    element = next(iterator)\n",
    "    print(element)"
   ]
  },
  {
   "cell_type": "code",
   "execution_count": 34,
   "id": "1a825959-1921-4a03-8acd-798c203df956",
   "metadata": {},
   "outputs": [
    {
     "name": "stdout",
     "output_type": "stream",
     "text": [
      "0\n",
      "2\n",
      "4\n",
      "6\n",
      "8\n"
     ]
    }
   ],
   "source": [
    "#Q4)\n",
    "\n",
    "\"\"\"A generator function in Python is a special type of function that allows you to create iterators in a more \n",
    "convenient and memory-efficient way. Generator functions use the yield keyword to yield values one at a time when iterated.\"\"\"\n",
    "\n",
    "def even_numbers():\n",
    "    n = 0\n",
    "    while True:\n",
    "        yield n\n",
    "        n += 2\n",
    "\n",
    "\n",
    "l = even_numbers()\n",
    "for _ in range(5):\n",
    "    print(next(l))\n"
   ]
  },
  {
   "cell_type": "code",
   "execution_count": 1,
   "id": "aaf62cd5-4d9d-4406-8a7d-9bdcfde0c537",
   "metadata": {},
   "outputs": [
    {
     "name": "stdout",
     "output_type": "stream",
     "text": [
      "2\n",
      "3\n",
      "5\n",
      "7\n",
      "11\n",
      "13\n",
      "17\n",
      "19\n",
      "23\n",
      "29\n",
      "31\n",
      "37\n",
      "41\n",
      "43\n",
      "47\n",
      "53\n",
      "59\n",
      "61\n",
      "67\n",
      "71\n"
     ]
    }
   ],
   "source": [
    "#Q5)\n",
    "\n",
    "def is_prime(n):\n",
    "    if n <= 1:\n",
    "        return False\n",
    "    if n <= 3:\n",
    "        return True\n",
    "    if n % 2 == 0 or n % 3 == 0:\n",
    "        return False\n",
    "    i = 5\n",
    "    while i * i <= n:\n",
    "        if n % i == 0 or n % (i + 2) == 0:\n",
    "            return False\n",
    "        i += 6\n",
    "    return True\n",
    "\n",
    "def generate_primes():\n",
    "    n = 2\n",
    "    count = 0\n",
    "    while count < 20:\n",
    "        if is_prime(n):\n",
    "            yield n\n",
    "            count += 1\n",
    "        n += 1\n",
    "\n",
    "prime_generator = generate_primes()\n",
    "\n",
    "for _ in range(20):\n",
    "    print(next(prime_generator))\n"
   ]
  },
  {
   "cell_type": "code",
   "execution_count": 2,
   "id": "8e26489d-3ae7-4cfd-ace2-ffd69e01ec49",
   "metadata": {},
   "outputs": [
    {
     "name": "stdout",
     "output_type": "stream",
     "text": [
      "0 1 1 2 3 5 8 13 21 34 "
     ]
    }
   ],
   "source": [
    "#Q6)\n",
    "\n",
    "a, b = 0, 1\n",
    "count = 0\n",
    "n = 10\n",
    "while count < n:\n",
    "    print(a, end=\" \")\n",
    "    a, b = b, a + b\n",
    "    count += 1"
   ]
  },
  {
   "cell_type": "code",
   "execution_count": 3,
   "id": "513a98ad-0df3-4424-82df-e043c791efda",
   "metadata": {},
   "outputs": [
    {
     "name": "stdout",
     "output_type": "stream",
     "text": [
      "['p', 'w', 's', 'k', 'i', 'l', 'l', 's']\n"
     ]
    }
   ],
   "source": [
    "#Q7)\n",
    "\n",
    "input_string = 'pwskills'\n",
    "output_list = list(input_string)\n",
    "print(output_list)"
   ]
  },
  {
   "cell_type": "code",
   "execution_count": 5,
   "id": "c436c7b1-f0be-44bb-8f41-dac6c26b7a42",
   "metadata": {},
   "outputs": [
    {
     "name": "stdin",
     "output_type": "stream",
     "text": [
      "Enter a number:  121\n"
     ]
    },
    {
     "name": "stdout",
     "output_type": "stream",
     "text": [
      "121 is a palindrome.\n"
     ]
    }
   ],
   "source": [
    "#Q8)\n",
    "\n",
    "def is_palindrome(number):\n",
    "    original_number = number\n",
    "    reversed_number = 0\n",
    "\n",
    "    while number > 0:\n",
    "        digit = number % 10\n",
    "        reversed_number = reversed_number * 10 + digit\n",
    "        number //= 10\n",
    "\n",
    "    return original_number == reversed_number\n",
    "\n",
    "\n",
    "num = int(input(\"Enter a number: \"))\n",
    "\n",
    "\n",
    "if is_palindrome(num):\n",
    "    print(f\"{num} is a palindrome.\")\n",
    "else:\n",
    "    print(f\"{num} is not a palindrome.\")\n"
   ]
  },
  {
   "cell_type": "code",
   "execution_count": 3,
   "id": "4ba513dc-6a89-4e8f-a336-1b04fff42e31",
   "metadata": {},
   "outputs": [
    {
     "name": "stdout",
     "output_type": "stream",
     "text": [
      "[1, 3, 5, 7, 9, 11, 13, 15, 17, 19, 21, 23, 25, 27, 29, 31, 33, 35, 37, 39, 41, 43, 45, 47, 49, 51, 53, 55, 57, 59, 61, 63, 65, 67, 69, 71, 73, 75, 77, 79, 81, 83, 85, 87, 89, 91, 93, 95, 97, 99]\n"
     ]
    }
   ],
   "source": [
    "#Q9)\n",
    "\n",
    "odd_numbers = [x for x in range(1, 101) if x % 2 != 0]\n",
    "print(odd_numbers)"
   ]
  },
  {
   "cell_type": "code",
   "execution_count": null,
   "id": "aa9927f7-c088-4c56-9e4b-0d44b03d9215",
   "metadata": {},
   "outputs": [],
   "source": []
  }
 ],
 "metadata": {
  "kernelspec": {
   "display_name": "Python 3 (ipykernel)",
   "language": "python",
   "name": "python3"
  },
  "language_info": {
   "codemirror_mode": {
    "name": "ipython",
    "version": 3
   },
   "file_extension": ".py",
   "mimetype": "text/x-python",
   "name": "python",
   "nbconvert_exporter": "python",
   "pygments_lexer": "ipython3",
   "version": "3.10.8"
  }
 },
 "nbformat": 4,
 "nbformat_minor": 5
}
